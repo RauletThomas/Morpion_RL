{
  "nbformat": 4,
  "nbformat_minor": 0,
  "metadata": {
    "colab": {
      "provenance": []
    },
    "kernelspec": {
      "name": "python3",
      "display_name": "Python 3"
    },
    "language_info": {
      "name": "python"
    }
  },
  "cells": [
    {
      "cell_type": "markdown",
      "source": [
        "# Résolution du jeu de Morpions par reinforcement learning"
      ],
      "metadata": {
        "id": "wj7q3XFokkMa"
      }
    },
    {
      "cell_type": "markdown",
      "source": [
        "Ce projet à pour but de comparer et essayer différent algorithme de reinforcement learning autour du jeu du Morpions.\n",
        "\n",
        "L'agent est entrainé pour joué en tant que premier joueur."
      ],
      "metadata": {
        "id": "148V_Wn_p2IG"
      }
    },
    {
      "cell_type": "markdown",
      "source": [
        "Les états sont représentés pour une liste de 9 éléments. \\\\\n",
        "0 -> Case vide \\\\\n",
        "1 -> Croix (premier joueur) \\\\\n",
        "-1 -> Rond (deuxième joueur) \\\\\n",
        "E = [0 , 0 ,0 , 1 , -1 , 0 , 1 , -1 , 0] -> \"image de morpions\"\n"
      ],
      "metadata": {
        "id": "RtfBxJZoqlSh"
      }
    },
    {
      "cell_type": "markdown",
      "source": [
        "Les seuls états présents sont ceux jouable pour le joueur 1  "
      ],
      "metadata": {
        "id": "eClhD1Gb5tte"
      }
    },
    {
      "cell_type": "markdown",
      "source": [
        "L'ensemble des actions d'un états est une liste d'indice, correspondant au indice libre de l'état\n",
        "\n",
        "\"image morpions\" -> [liste d'actions]"
      ],
      "metadata": {
        "id": "hAUK8uSm6BJG"
      }
    },
    {
      "cell_type": "markdown",
      "source": [
        "L'état 𝐒{n+1} se déduit de 𝐒_n et 𝐴_n.\n",
        "Pour ce faire, on joue d'abord un coup a valable, soit l'état donnée est terminal est donc vaut S_n+1, soit l'état n'est pas terminal et on choisit un coup valable de l'adversaire pour calculer S_n+1"
      ],
      "metadata": {
        "id": "vwAbYg8a6swP"
      }
    },
    {
      "cell_type": "markdown",
      "source": [
        "R_n vaut 10 si S_n est gagnant pour le joueur 1. \\\\\n",
        "R_n vaut -10 si S_n est gagnant pour le joueur 2. \\\\\n",
        "R_n vaut 0 si S_n est nul."
      ],
      "metadata": {
        "id": "lGh6LavS74iB"
      }
    },
    {
      "cell_type": "code",
      "source": [
        "import numpy as np\n",
        "import random"
      ],
      "metadata": {
        "id": "gzO2WmjgN__v"
      },
      "execution_count": null,
      "outputs": []
    },
    {
      "cell_type": "markdown",
      "source": [
        "## Définition de l'ensemble des états 𝐒"
      ],
      "metadata": {
        "id": "yKkcnbrGmadt"
      }
    },
    {
      "cell_type": "markdown",
      "source": [
        "La première partie de ce code est consacré à la définiton de l'ensemble 𝐒, qui contient l'ensemble des états, ainsi qu'a de nombreuse fonctions sur les états.\n",
        "\n"
      ],
      "metadata": {
        "id": "_ADRShLuoqAH"
      }
    },
    {
      "cell_type": "code",
      "execution_count": null,
      "metadata": {
        "id": "2uWJteiwJ3Bh"
      },
      "outputs": [],
      "source": [
        "'''\n",
        "E : un état\n",
        "renvoie la liste des actions possibles pour cet état\n",
        "'''\n",
        "def list_actions(E):\n",
        "  a = []\n",
        "  for i in range(len(E)):\n",
        "    if E[i] == 0:\n",
        "      a.append(i)\n",
        "  return a"
      ]
    },
    {
      "cell_type": "code",
      "source": [
        "'''\n",
        "E : un état\n",
        "a : une action\n",
        "J : un joueur (1 ou -1)\n",
        "renvoie l'état obtenu après l'action\n",
        "'''\n",
        "def etat_action(E,a,J):\n",
        "  F = E.copy()\n",
        "  F[a] = J\n",
        "  return F"
      ],
      "metadata": {
        "id": "VJRTqXEcKvFP"
      },
      "execution_count": null,
      "outputs": []
    },
    {
      "cell_type": "code",
      "source": [
        "'''\n",
        "E : un état\n",
        "i : indice dans {0,1,2}\n",
        "renvoie la ligne i de l'état E\n",
        "'''\n",
        "def ligne(E,i):\n",
        "  return E[i*3:i*3+3]\n",
        "'''\n",
        "E : un état\n",
        "i : indice dans {0,1,2}\n",
        "renvoie la collumns i de l'état E\n",
        "'''\n",
        "def collumns(E,i):\n",
        "  return E[i::3]\n",
        "'''\n",
        "E : un état\n",
        "i : indice dans {0,1}\n",
        "renvoie la diagonale i de l'état E\n",
        "'''\n",
        "def diag(E,i):\n",
        "  if i == 0:\n",
        "    return E[0::4]\n",
        "  if i == 1:\n",
        "    return E[2:7:2]"
      ],
      "metadata": {
        "id": "1dCPfUSJL6f7"
      },
      "execution_count": null,
      "outputs": []
    },
    {
      "cell_type": "code",
      "source": [
        "'''\n",
        "E : un état\n",
        "renvoie True si l'un des joueur a gagné , False sinon\n",
        "'''\n",
        "def etat_final(E):\n",
        "  for i in range(3):\n",
        "    if np.abs(np.sum(ligne(E,i))) == 3:\n",
        "      return True\n",
        "    if np.abs(np.sum(collumns(E,i))) == 3:\n",
        "      return True\n",
        "  for i in range(2):\n",
        "    if np.abs(np.sum(diag(E,i))) == 3:\n",
        "      return True\n",
        "  return False\n",
        "\n",
        "'''\n",
        "E : un état\n",
        "renvoie True si l'un des joueur a gagné ou si il y a égalité, False sinon\n",
        "'''\n",
        "def etat_terminal(E): # on a gagné ou match nul\n",
        "  return etat_final(E) or (len(list_actions(E)) == 0)"
      ],
      "metadata": {
        "id": "wvKKsdnKN8Dq"
      },
      "execution_count": null,
      "outputs": []
    },
    {
      "cell_type": "code",
      "source": [
        "def print_etat(S):\n",
        "  print(\"\")\n",
        "  print(S[0] , S[1] , S[2] ,\"           0 1 2\")\n",
        "  print(S[3] , S[4] , S[5] ,\"           3 4 5\")\n",
        "  print(S[6] , S[7] , S[8] ,\"           6 7 8\")\n",
        "  print(\"--------\")"
      ],
      "metadata": {
        "id": "UqwHCnq1RUea"
      },
      "execution_count": null,
      "outputs": []
    },
    {
      "cell_type": "code",
      "source": [
        "'''\n",
        "Renvoie l'ensemble des états S avec un parcours en profondeur depuis l'état initial\n",
        "'''\n",
        "def ensemble_etat():\n",
        "  E = [0,0,0,\n",
        "       0,0,0,\n",
        "       0,0,0]\n",
        "  S = [E]\n",
        "  AVisiter = [E]\n",
        "  while(len(AVisiter) != 0):\n",
        "    e = AVisiter[0]\n",
        "    AVisiter.remove(e)\n",
        "    actions = list_actions(e)\n",
        "    if etat_terminal(e):\n",
        "      S.append(e)\n",
        "    else:\n",
        "      for a in actions:\n",
        "        F = etat_action(e,a,1)\n",
        "        if etat_terminal(F):\n",
        "          S.append(F)\n",
        "        else:\n",
        "          actions_F = list_actions(F)\n",
        "          for a_f in actions_F:\n",
        "            G = etat_action(F,a_f,-1)\n",
        "            AVisiter.append(G)\n",
        "            S.append(G)\n",
        "  return S"
      ],
      "metadata": {
        "id": "HItynfiKOzrF"
      },
      "execution_count": null,
      "outputs": []
    },
    {
      "cell_type": "code",
      "source": [
        "'''\n",
        "Renvoie l'état d'indice x dans S\n",
        "'''\n",
        "def numero_etat(x):\n",
        "  return S[x]\n",
        "'''\n",
        "Renvoie l'indice de l'état E dans S\n",
        "'''\n",
        "def etat_numero(e,S):\n",
        "  i = 0\n",
        "  for s in S:\n",
        "    if s == e:\n",
        "      return i\n",
        "    i += 1\n",
        "  return i-1"
      ],
      "metadata": {
        "id": "oMKdPlzkuPmd"
      },
      "execution_count": null,
      "outputs": []
    },
    {
      "cell_type": "code",
      "source": [
        "S = ensemble_etat()"
      ],
      "metadata": {
        "id": "oezK_jI2-FPI"
      },
      "execution_count": null,
      "outputs": []
    },
    {
      "cell_type": "markdown",
      "source": [
        "## Algorithme d'apprentisage"
      ],
      "metadata": {
        "id": "nHJOMB-cn6VY"
      }
    },
    {
      "cell_type": "code",
      "source": [
        "'''\n",
        "E : un état\n",
        "pi : une matrice de probabilités\n",
        "renvoie l'action choisit selon pi pour l'état E\n",
        "'''\n",
        "def predict(E, pi): #\n",
        "  probabilities = pi[etat_numero(E,S)]\n",
        "  return random.choices(range(len(probabilities)), weights=probabilities, k=1)[0]"
      ],
      "metadata": {
        "id": "Gvyk6pU4c6gO"
      },
      "execution_count": null,
      "outputs": []
    },
    {
      "cell_type": "code",
      "source": [
        "'''\n",
        "a : une action\n",
        "E : un état\n",
        "renvoie l'état obtenu après l'action et la récompense associé à l'état obtenu\n",
        "10 si on gagne\n",
        "-10 si on perd\n",
        "0 sinon\n",
        "'''\n",
        "def execute(a,E):\n",
        "  F = etat_action(E,a,1) # notre tour de jouer\n",
        "  if etat_final(F):\n",
        "    return 10 , F\n",
        "  if etat_terminal(F):\n",
        "    return 0 , F\n",
        "\n",
        "  actions = list_actions(F)\n",
        "  probabilities = []\n",
        "  probabilities = [1 / len(actions) for i in range(len(actions))]\n",
        "  indice = random.choices(range(len(probabilities)), weights=probabilities, k=1)[0]\n",
        "  a_prime = actions[indice]\n",
        "  E_prime = etat_action(F,a_prime,-1) # tour de l'adversaire\n",
        "  if etat_final(E_prime):\n",
        "    return -10 , E_prime\n",
        "\n",
        "  return 0 , E_prime"
      ],
      "metadata": {
        "id": "ABhKTSMHe_k2"
      },
      "execution_count": null,
      "outputs": []
    },
    {
      "cell_type": "code",
      "source": [
        "def controle(pi,E,Q,epsilon):\n",
        "  actions = list_actions(E)\n",
        "  numero = etat_numero(E,S)\n",
        "  # on vérifie que Q possède un max non nul\n",
        "  ok = False\n",
        "  for x in Q[numero]:\n",
        "    if x > 0:\n",
        "      ok = True\n",
        "  if ok:\n",
        "    argmx = np.argmax(Q[numero])\n",
        "    for a in actions:\n",
        "      if a == argmx:\n",
        "        pi[numero][a] = (epsilon/len(actions)) + 1 - epsilon\n",
        "      else:\n",
        "        pi[numero][a] = epsilon/len(actions)\n",
        "  return pi"
      ],
      "metadata": {
        "id": "3dEZbVTii5IM"
      },
      "execution_count": null,
      "outputs": []
    },
    {
      "cell_type": "markdown",
      "source": [
        "###Monte-Carlo"
      ],
      "metadata": {
        "id": "jmrUbbzmBP7z"
      }
    },
    {
      "cell_type": "code",
      "source": [
        "'''\n",
        "l : une liste d'entier\n",
        "n : un entier\n",
        "renvoie la somme des n derniers éléments de la liste\n",
        "'''\n",
        "def sum(l,n):\n",
        "  x = 0\n",
        "  for i in range(n):\n",
        "    x += l[len(l) - 1 - i]\n",
        "  return x"
      ],
      "metadata": {
        "id": "p_GWp98HDozQ"
      },
      "execution_count": null,
      "outputs": []
    },
    {
      "cell_type": "code",
      "source": [
        "def Monte_Carlo(pi,Q,epsilon = 0.1,k = 1000,n = 500):\n",
        "  for i in range(k):\n",
        "    if i > n:\n",
        "      epsilon = epsilon/(i-n+1)\n",
        "    E = [0,0,0,\n",
        "        0,0,0,\n",
        "        0,0,0]\n",
        "    S_parcourue = [E]\n",
        "    a_joue = []\n",
        "    R_moy = []\n",
        "    # on joue une partie pour recolter les R par rapport à chaque couple (E,a)\n",
        "    while not(etat_terminal(E)):\n",
        "      a = predict(E,pi)\n",
        "      a_joue.append(a)\n",
        "      R , E = execute(a,E)\n",
        "      S_parcourue.append(E)\n",
        "      R_moy.append(R)\n",
        "\n",
        "    # On attribue à chaque couple (E,a) la moyenne des returns\n",
        "    for j in range(len(a_joue)):\n",
        "      Q[etat_numero(S_parcourue[j],S)][a_joue[j]] = sum(R_moy,len(a_joue) - j)/(len(a_joue) - j)\n",
        "    pi = controle(pi,E,Q,epsilon)\n",
        "  return pi , Q"
      ],
      "metadata": {
        "id": "iBSR_5CnBUD0"
      },
      "execution_count": null,
      "outputs": []
    },
    {
      "cell_type": "markdown",
      "source": [
        "###Sarsa"
      ],
      "metadata": {
        "id": "64qaBQ_H_rOk"
      }
    },
    {
      "cell_type": "code",
      "source": [
        "def Sarsa(pi,Q,alpha = 0.2,gamma = 0.99,epsilon = 0.1,k = 1000, n = 500):\n",
        "  for i in range(k):\n",
        "    if i > n:\n",
        "      epsilon = epsilon/(i-n+1)\n",
        "    E = [0,0,0,\n",
        "        0,0,0,\n",
        "        0,0,0]\n",
        "    a = predict(E,pi)\n",
        "    while not(etat_terminal(E)):\n",
        "      R , E_prime = execute(a,E)\n",
        "      if len(list_actions(E_prime)) != 0:\n",
        "        a_prime = predict(E_prime,pi)\n",
        "        Q[etat_numero(E,S)][a] = Q[etat_numero(E,S)][a] + alpha*(R + gamma*Q[etat_numero(E_prime,S)][a_prime] - Q[etat_numero(E,S)][a])\n",
        "        pi = controle(pi,E,Q,epsilon)\n",
        "      E = E_prime\n",
        "      a = a_prime\n",
        "  return pi , Q"
      ],
      "metadata": {
        "id": "QPrDjY5laqz5"
      },
      "execution_count": null,
      "outputs": []
    },
    {
      "cell_type": "markdown",
      "source": [
        "## Définition de π et de 𝑸"
      ],
      "metadata": {
        "id": "_raU3wGTnjZa"
      }
    },
    {
      "cell_type": "code",
      "source": [
        "'''\n",
        "Pi est un tabeleau numpy qui ne sera jamais modifiée durant l'entrainement\n",
        "P[i][a] = probabilité de l'action a dans l'état S[i] (repartie de manière uniforme)\n",
        "Q[i][a] = valeur de l'action a dans l'état S[i] (initialisé à 0)\n",
        "'''\n",
        "Pi = np.zeros([len(S),9])\n",
        "for i in range(len(S)):\n",
        "  for a in list_actions(S[i]):\n",
        "    Pi[i][a] = 1/len(list_actions(S[i]))\n",
        "Q = np.zeros((len(S),9))"
      ],
      "metadata": {
        "id": "HM6XKeonIw79"
      },
      "execution_count": null,
      "outputs": []
    },
    {
      "cell_type": "markdown",
      "source": [
        "## Entrainement sur différent algorithme"
      ],
      "metadata": {
        "id": "VTiIqQKq90Fc"
      }
    },
    {
      "cell_type": "code",
      "source": [
        "'''\n",
        "k : le nombre d'itération de notre modèle\n",
        "n : le nombre d'itération avant de diminuer epsilon\n",
        "'''"
      ],
      "metadata": {
        "colab": {
          "base_uri": "https://localhost:8080/",
          "height": 35
        },
        "id": "HA9XyxTHgiHc",
        "outputId": "c595a33c-e268-4458-802a-f8479562d878"
      },
      "execution_count": null,
      "outputs": [
        {
          "output_type": "execute_result",
          "data": {
            "text/plain": [
              "\"\\nk : le nombre d'itération de notre modèle \\nn : le nombre d'itération avant de diminuer epsilon\\n\""
            ],
            "application/vnd.google.colaboratory.intrinsic+json": {
              "type": "string"
            }
          },
          "metadata": {},
          "execution_count": 71
        }
      ]
    },
    {
      "cell_type": "code",
      "source": [
        "Q_MC = np.zeros((len(S),9))\n",
        "pi_MC = Pi.copy()\n",
        "pi_MC , Q_MC = Monte_Carlo(pi_MC,Q_MC,k = 15000,n=15000)"
      ],
      "metadata": {
        "id": "fXm8SAPDENEn"
      },
      "execution_count": null,
      "outputs": []
    },
    {
      "cell_type": "code",
      "source": [
        "Q_Sarsa = np.zeros((len(S),9))\n",
        "pi_Sarsa = Pi.copy()"
      ],
      "metadata": {
        "id": "hmH4mb2W-cRp"
      },
      "execution_count": null,
      "outputs": []
    },
    {
      "cell_type": "code",
      "source": [
        "pi_Sarsa , Q_Sarsa = Sarsa(pi_Sarsa,Q_Sarsa,k = 15000, n = 10000)"
      ],
      "metadata": {
        "id": "chM7yoSZmYcS"
      },
      "execution_count": null,
      "outputs": []
    },
    {
      "cell_type": "code",
      "source": [
        "Q_Sarsa_2 = np.zeros((len(S),9))\n",
        "pi_Sarsa_2 = Pi.copy()\n",
        "pi_Sarsa_2 , Q_Sarsa_2 = Sarsa(pi_Sarsa_2,Q_Sarsa_2,k = 10000, n = 10000)"
      ],
      "metadata": {
        "id": "ucWnDrkUiN4g"
      },
      "execution_count": null,
      "outputs": []
    },
    {
      "cell_type": "code",
      "source": [
        "pi_MC[0]"
      ],
      "metadata": {
        "colab": {
          "base_uri": "https://localhost:8080/"
        },
        "id": "PnANLMzuh-iY",
        "outputId": "646fef57-12d6-4215-cebe-f54a214fbdea"
      },
      "execution_count": null,
      "outputs": [
        {
          "output_type": "execute_result",
          "data": {
            "text/plain": [
              "array([0.11111111, 0.11111111, 0.11111111, 0.11111111, 0.11111111,\n",
              "       0.11111111, 0.11111111, 0.11111111, 0.11111111])"
            ]
          },
          "metadata": {},
          "execution_count": 80
        }
      ]
    },
    {
      "cell_type": "markdown",
      "source": [
        "## Match contre l'IA"
      ],
      "metadata": {
        "id": "5UwxGMIwnW8l"
      }
    },
    {
      "cell_type": "code",
      "source": [
        "def match(pi):\n",
        "  E = [0,0,0,\n",
        "        0,0,0,\n",
        "        0,0,0]\n",
        "  print_etat(E)\n",
        "  while(not(etat_terminal(E))):\n",
        "    a = predict(E,pi)\n",
        "    E = etat_action(E,a,1)\n",
        "    print_etat(E)\n",
        "    if etat_final(E):\n",
        "      print(\"le robot gagne\")\n",
        "      return 0\n",
        "    if etat_terminal(E):\n",
        "      print(\"égalité\")\n",
        "      return 0\n",
        "    action = input(\"votre coup : \")\n",
        "    E = etat_action(E,int(action),-1)\n",
        "    print_etat(E)"
      ],
      "metadata": {
        "id": "zdbjjvJ44bd6"
      },
      "execution_count": null,
      "outputs": []
    },
    {
      "cell_type": "code",
      "source": [
        "match(pi_MC)"
      ],
      "metadata": {
        "colab": {
          "base_uri": "https://localhost:8080/"
        },
        "id": "e3unJ9rN5dCd",
        "outputId": "3b36c4d9-ddbc-4c28-c1f6-2d0c6e279f77"
      },
      "execution_count": null,
      "outputs": [
        {
          "output_type": "stream",
          "name": "stdout",
          "text": [
            "\n",
            "0 0 0            0 1 2\n",
            "0 0 0            3 4 5\n",
            "0 0 0            6 7 8\n",
            "--------\n",
            "\n",
            "0 0 1            0 1 2\n",
            "0 0 0            3 4 5\n",
            "0 0 0            6 7 8\n",
            "--------\n",
            "votre coup : 4\n",
            "\n",
            "0 0 1            0 1 2\n",
            "0 -1 0            3 4 5\n",
            "0 0 0            6 7 8\n",
            "--------\n",
            "\n",
            "0 1 1            0 1 2\n",
            "0 -1 0            3 4 5\n",
            "0 0 0            6 7 8\n",
            "--------\n",
            "votre coup : 8\n",
            "\n",
            "0 1 1            0 1 2\n",
            "0 -1 0            3 4 5\n",
            "0 0 -1            6 7 8\n",
            "--------\n",
            "\n",
            "0 1 1            0 1 2\n",
            "0 -1 0            3 4 5\n",
            "1 0 -1            6 7 8\n",
            "--------\n",
            "votre coup : 0\n",
            "\n",
            "-1 1 1            0 1 2\n",
            "0 -1 0            3 4 5\n",
            "1 0 -1            6 7 8\n",
            "--------\n"
          ]
        }
      ]
    }
  ]
}